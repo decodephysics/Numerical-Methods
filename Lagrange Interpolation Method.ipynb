{
 "cells": [
  {
   "cell_type": "markdown",
   "metadata": {},
   "source": [
    "# Lagrange Interpolation Method\n",
    "If we have \"n+1\" given points ,then we would have atmost \"n\" degree polynomial which would pass through the given points.<br>\n",
    "We have the points $(x_0,y_0),(x_1,y_1),(x_2,y_2),(x_3,y_3),(x_4,y_4),(x_5,y_5),.................,(x_{10},y_{10}),............,(x_n,y_n)$<br>\n",
    "<br>\n",
    "Interpolation polynomial is given by\n",
    "$$ P(x)=\\sum_{n=1}^{n} p_i (x) y_i $$\n",
    "<br>\n",
    "Lagrange basis polynomials $ p_i(x) $\n",
    "<br><br>\n",
    "$$ p_i (x) = \\frac{(x-x_0)(x-x_1)(x-x_2)(x-x_3).......(x-x_{i-1})(x-x_{i+1})......(x-x_n)}{(x_i-x_0)(x_i-x_1)(x_i-x_2)(x_i-x_3).......(x_i-x_{i-1})(x_i-x_{i+1})......(x_i-x_n)} $$<br>\n",
    "$$ p_i (x) = \\prod_{j}\\frac{(x-x_j)}{(x_i-x_j)}$$ \n",
    "<center> where j $\\ne$ i."
   ]
  },
  {
   "cell_type": "code",
   "execution_count": 2,
   "metadata": {},
   "outputs": [
    {
     "data": {
      "text/plain": [
       "36.0"
      ]
     },
     "execution_count": 2,
     "metadata": {},
     "output_type": "execute_result"
    }
   ],
   "source": [
    "x=[1,2,3,5]   # here we are given points ,we try to find the value of y corresponding to x=6 .\n",
    "y=[1,4,9,25]\n",
    "xp=6\n",
    "yp=0\n",
    "m=len(x)\n",
    "n=m-1 # degree of the polynomial\n",
    "for i in range(n+1):\n",
    "    p=1\n",
    "    for j in range(n+1):\n",
    "        if i!=j:\n",
    "            p*=(xp-x[j])/(x[i]-x[j])\n",
    "    yp+=p*y[i]\n",
    "yp"
   ]
  },
  {
   "cell_type": "code",
   "execution_count": 9,
   "metadata": {},
   "outputs": [
    {
     "data": {
      "image/png": "[encoded data removed]",
      "text/plain": [
       "<Figure size 432x288 with 1 Axes>"
      ]
     },
     "metadata": {
      "needs_background": "light"
     },
     "output_type": "display_data"
    }
   ],
   "source": [
    "def f(xp,x,y): # we define a function for Lagrange Interpolation Method\n",
    "    yp=0\n",
    "    m=len(x)\n",
    "    n=m-1 # degree of the polynomial\n",
    "    for i in range(n+1):\n",
    "        p=1\n",
    "        for j in range(n+1):\n",
    "            if i!=j:\n",
    "                p*=(xp-x[j])/(x[i]-x[j])\n",
    "        yp+=p*y[i]\n",
    "    return yp\n",
    "\n",
    "import numpy as np\n",
    "\n",
    "x=[0,10,15,20,22.5,30]\n",
    "y=[0,227.04,362.78,517.35,602.97,901.67]\n",
    "xp=np.linspace(x[0],x[-1],num=50)\n",
    "\n",
    "import matplotlib.pyplot as plt\n",
    "plt.plot(xp,f(xp,x,y))\n",
    "plt.xlabel(\"x\")\n",
    "plt.ylabel(\"y\")\n",
    "plt.scatter(x,y)\n",
    "plt.show()"
   ]
  },
  {
   "cell_type": "code",
   "execution_count": 10,
   "metadata": {},
   "outputs": [
    {
     "data": {
      "image/png": "[encoded data removed]",
      "text/plain": [
       "<Figure size 432x288 with 1 Axes>"
      ]
     },
     "metadata": {
      "needs_background": "light"
     },
     "output_type": "display_data"
    }
   ],
   "source": [
    "x=[1,2,3,4,5,6]\n",
    "y=[1,1,2,3,5,8]\n",
    "xp=np.linspace(x[0],7,num=50)\n",
    "\n",
    "import matplotlib.pyplot as plt\n",
    "plt.plot(xp,f(xp,x,y))\n",
    "plt.scatter(x,y)\n",
    "plt.xlabel(\"x\")\n",
    "plt.ylabel(\"y\")\n",
    "plt.show()"
   ]
  }
 ],
 "metadata": {
  "kernelspec": {
   "display_name": "Python 3",
   "language": "python",
   "name": "python3"
  },
  "language_info": {
   "codemirror_mode": {
    "name": "ipython",
    "version": 3
   },
   "file_extension": ".py",
   "mimetype": "text/x-python",
   "name": "python",
   "nbconvert_exporter": "python",
   "pygments_lexer": "ipython3",
   "version": "3.7.6"
  }
 },
 "nbformat": 4,
 "nbformat_minor": 4
}
